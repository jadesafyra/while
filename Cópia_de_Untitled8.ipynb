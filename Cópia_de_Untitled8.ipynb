{
  "nbformat": 4,
  "nbformat_minor": 0,
  "metadata": {
    "colab": {
      "provenance": []
    },
    "kernelspec": {
      "name": "python3",
      "display_name": "Python 3"
    },
    "language_info": {
      "name": "python"
    }
  },
  "cells": [
    {
      "cell_type": "code",
      "execution_count": null,
      "metadata": {
        "id": "Ge7o6CdB_lDY"
      },
      "outputs": [],
      "source": [
        " #Faça um programa que peça uma nota, entre zero e dez. Mostre uma\n",
        "#mensagem caso o valor seja inválido e continue pedindo até que o usuário\n",
        "#informe um valor válido.\n",
        "#1exercicio feito pelo prof\n",
        "nota = float(input(\"digite uma nota entre zero e dez: \"))\n",
        "while nota > 10 or nota < 0:\n",
        "  nota = float(input(\"digite uma nota entre zero e dez: \"))\n",
        "print(\"sucesso\")"
      ]
    },
    {
      "cell_type": "code",
      "source": [
        "#escreva um programa que solicite ao usuario que insira um numero e em seguida, imprima a tabuada desse numero ate 10\n",
        "#exercicio feito pelo prof\n",
        "numero = int(input(\"por favor, digite um numero\"))\n",
        "contador = 1\n",
        "while contador <= 10:\n",
        "   resultado = numero * contador\n",
        "   print(f\" {numero} x {contador} = {resultado}\")\n",
        "   contador += 1\n",
        "\n"
      ],
      "metadata": {
        "id": "l7czfKm-BvWO"
      },
      "execution_count": null,
      "outputs": []
    },
    {
      "cell_type": "code",
      "source": [
        "#exercicio\n",
        "#Faça um programa que leia um nome de usuário e a sua senha e não aceite a\n",
        "#senha igual ao nome do usuário, mostrando uma mensagem de erro e voltando\n",
        "#a pedir as informações.\n",
        "nome = str(input(\"insira o nome de usuario\"))\n",
        "senha = str(input(\"insira a senha\"))\n",
        "while senha == nome:\n",
        " print(\"erro, insira novamente o nome de usuario e a senha\")\n",
        "break\n",
        "\n",
        "\n"
      ],
      "metadata": {
        "colab": {
          "base_uri": "https://localhost:8080/"
        },
        "id": "KlnpTnNaDUpN",
        "outputId": "7610fe36-d1a8-4e69-f484-8301748a62df"
      },
      "execution_count": null,
      "outputs": [
        {
          "output_type": "stream",
          "name": "stdout",
          "text": [
            "insira o nome de usuariojade\n",
            "insira a senhajade\n",
            "erro, insira novamente o nome de usuario e a senha\n"
          ]
        }
      ]
    },
    {
      "cell_type": "code",
      "source": [
        "#Escreva um programa que conte de 1 a 10 e imprima cada número.\n",
        "#exercicio 2\n",
        "numero = 1\n",
        "while numero <= 10:\n",
        "  print(numero)\n",
        "  numero += 1"
      ],
      "metadata": {
        "colab": {
          "base_uri": "https://localhost:8080/"
        },
        "id": "ZOfOoeQ3HxGX",
        "outputId": "dc8acc87-e0a8-452b-ae05-b5ae8ab40899"
      },
      "execution_count": null,
      "outputs": [
        {
          "output_type": "stream",
          "name": "stdout",
          "text": [
            "1\n",
            "2\n",
            "3\n",
            "4\n",
            "5\n",
            "6\n",
            "7\n",
            "8\n",
            "9\n",
            "10\n"
          ]
        }
      ]
    },
    {
      "cell_type": "code",
      "source": [
        "#Escreva um programa que conte de 1 a 20\n",
        "#exercicio 3\n",
        "numero = 2\n",
        "while numero <= 20:\n",
        "  print(numero)\n",
        "  numero += 2"
      ],
      "metadata": {
        "colab": {
          "base_uri": "https://localhost:8080/"
        },
        "id": "13DhwfQ3Jf9I",
        "outputId": "b35044d4-91e5-4cfd-cc9d-54298941530f"
      },
      "execution_count": null,
      "outputs": [
        {
          "output_type": "stream",
          "name": "stdout",
          "text": [
            "2\n",
            "4\n",
            "6\n",
            "8\n",
            "10\n",
            "12\n",
            "14\n",
            "16\n",
            "18\n",
            "20\n"
          ]
        }
      ]
    },
    {
      "cell_type": "code",
      "source": [
        "#Escreva um programa que solicite ao usuário que insira um número e, em\n",
        "#seguida, imprima todos os números de 1 até esse número.\n",
        "#exercicio4\n",
        "numero = int(input(\"insira um numero\"))\n",
        "contador = 1\n",
        "while contador <= numero:\n",
        "  print(contador)\n",
        "  contador += 1"
      ],
      "metadata": {
        "colab": {
          "base_uri": "https://localhost:8080/"
        },
        "id": "dr0jKxoVKJba",
        "outputId": "e9613554-394d-44ba-d0fe-b546c6fc4a12"
      },
      "execution_count": null,
      "outputs": [
        {
          "output_type": "stream",
          "name": "stdout",
          "text": [
            "insira um numero15\n",
            "1\n",
            "2\n",
            "3\n",
            "4\n",
            "5\n",
            "6\n",
            "7\n",
            "8\n",
            "9\n",
            "10\n",
            "11\n",
            "12\n",
            "13\n",
            "14\n",
            "15\n"
          ]
        }
      ]
    },
    {
      "cell_type": "code",
      "source": [
        "#Escreva um programa que solicite ao usuário que insira um número e, em\n",
        "#seguida, imprima todos os números pares de 2 até esse número.\n",
        "#exercicio5\n",
        "numero = int(input(\"insira um numero\"))\n",
        "contador = 2\n",
        "while contador <= numero:\n",
        "  print(contador)\n",
        "  contador += 2"
      ],
      "metadata": {
        "colab": {
          "base_uri": "https://localhost:8080/"
        },
        "id": "tZXTHVIVLEc0",
        "outputId": "4145cf00-c7c1-41c2-c0a1-9a715e8e6e7c"
      },
      "execution_count": null,
      "outputs": [
        {
          "output_type": "stream",
          "name": "stdout",
          "text": [
            "insira um numero9\n",
            "2\n",
            "4\n",
            "6\n",
            "8\n"
          ]
        }
      ]
    },
    {
      "cell_type": "code",
      "source": [
        "\n",
        "#Escreva um programa que solicite ao usuário que insira um número e, em\n",
        "#seguida, imprima a tabuada desse número até 10.\n",
        "#exercicio6\n",
        "numero = int(input(\"insira um numero:\"))\n",
        "contador = 1\n",
        "while contador <= 10:\n",
        "  resultado = numero * contador\n",
        "  print(f\"{numero} x {contador} = resultado\")\n",
        "  contador += 1"
      ],
      "metadata": {
        "colab": {
          "base_uri": "https://localhost:8080/"
        },
        "id": "1AywNncUMdTC",
        "outputId": "67293eb3-747d-4b46-8fcc-3d9194729133"
      },
      "execution_count": null,
      "outputs": [
        {
          "output_type": "stream",
          "name": "stdout",
          "text": [
            "insira um numero:1\n",
            "1 x 1 = resultado\n",
            "1 x 2 = resultado\n",
            "1 x 3 = resultado\n",
            "1 x 4 = resultado\n",
            "1 x 5 = resultado\n",
            "1 x 6 = resultado\n",
            "1 x 7 = resultado\n",
            "1 x 8 = resultado\n",
            "1 x 9 = resultado\n",
            "1 x 10 = resultado\n"
          ]
        }
      ]
    },
    {
      "cell_type": "code",
      "source": [
        "#Escreva um programa que solicite ao usuário que insira uma senha. O\n",
        "#programa deve continuar solicitando a senha até que o usuário insira a senha\n",
        "#correta.\n",
        "#exercicio7\n",
        "\n",
        "senha = \"senhamorango\"\n",
        "usuario = str(input(\"insira uma senha\"))\n",
        "while usuario != senha:\n",
        "  print(\"senha incorreta\")\n",
        "break\n"
      ],
      "metadata": {
        "id": "3tOJJZjqUf8T"
      },
      "execution_count": null,
      "outputs": []
    },
    {
      "cell_type": "code",
      "source": [
        "#Escreva um programa que calcule a média de uma lista de números fornecida\n",
        "#pelo usuário.\n",
        "#exercicio8\n",
        "numero = int(input(\"insira a quantidade de numeros que quiser\"))\n",
        "soma = 0\n",
        "contador = 0\n",
        "while contador <soma:\n",
        " soma += 1\n",
        "contador += 1\n",
        "soma/contador\n",
        "print(resultado)\n",
        "print(f\"{soma} / {contador} = {resultado}\")\n"
      ],
      "metadata": {
        "colab": {
          "base_uri": "https://localhost:8080/"
        },
        "id": "JF4ayP1FZ5Ct",
        "outputId": "51d7674f-1cec-4b9d-c143-976c40357c84"
      },
      "execution_count": null,
      "outputs": [
        {
          "output_type": "stream",
          "name": "stdout",
          "text": [
            "insira a quantidade de numeros que quiser1\n",
            "10\n",
            "0 / 1 = 10\n"
          ]
        }
      ]
    },
    {
      "cell_type": "markdown",
      "source": [],
      "metadata": {
        "id": "px5gSk_hNTHx"
      }
    },
    {
      "cell_type": "code",
      "source": [
        "#Escreva um programa que solicite ao usuário que insira números até que ele\n",
        "#insira o número 0. Em seguida, imprima a soma de todos os números inseridos.\n",
        "#exercicio9\n",
        "numero = float(input(\"insira um numero\"))\n",
        "soma = 0\n",
        "while numero !=0:\n",
        "  soma += numero\n",
        "  numero = float(input(\"insira outro numero\"))\n",
        "print(soma)"
      ],
      "metadata": {
        "colab": {
          "base_uri": "https://localhost:8080/"
        },
        "id": "DcK9iPwLbZhZ",
        "outputId": "8eef5b3a-0f25-4aa5-c16d-0173779aca87"
      },
      "execution_count": null,
      "outputs": [
        {
          "output_type": "stream",
          "name": "stdout",
          "text": [
            "insira um numero5\n",
            "insira outro numero1\n",
            "insira outro numero6\n",
            "insira outro numero0\n",
            "12.0\n"
          ]
        }
      ]
    },
    {
      "cell_type": "code",
      "source": [
        "\n",
        "\n",
        "#Escreva um programa que solicite ao usuário que insira números até que ele\n",
        "#insira um número negativo. Em seguida, imprima o maior número inserido.\n",
        "#exercicio10\n",
        "maior_numero = 0\n",
        "numero = int(input(\"insira um numero inicial\"))\n",
        "while numero >= 0:\n",
        "  numero = int(input(\"insira um numero(numero negativo termina):\"))\n",
        "  if numero > maior_numero:\n",
        "    maior_numero = numero\n",
        "print(f\"o maior numero e {maior_numero}\")\n",
        "\n",
        "\n",
        "\n",
        "\n"
      ],
      "metadata": {
        "colab": {
          "base_uri": "https://localhost:8080/"
        },
        "id": "rVJLA1F4dTS4",
        "outputId": "069a64e2-700d-490f-bf8a-b9c1393ba6d0"
      },
      "execution_count": null,
      "outputs": [
        {
          "output_type": "stream",
          "name": "stdout",
          "text": [
            "insira um numero inicial3\n",
            "insira um numero(numero negativo termina):3\n",
            "insira um numero(numero negativo termina):-2\n",
            "o maior numero e 3\n"
          ]
        }
      ]
    }
  ]
}